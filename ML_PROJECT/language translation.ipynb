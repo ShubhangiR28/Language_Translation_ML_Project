{
 "cells": [
  {
   "cell_type": "code",
   "execution_count": 1,
   "id": "acd9e663",
   "metadata": {},
   "outputs": [
    {
     "name": "stdout",
     "output_type": "stream",
     "text": [
      "WARNING:tensorflow:From c:\\Users\\shubh\\AppData\\Local\\Programs\\Python\\Python310\\lib\\site-packages\\keras\\src\\losses.py:2976: The name tf.losses.sparse_softmax_cross_entropy is deprecated. Please use tf.compat.v1.losses.sparse_softmax_cross_entropy instead.\n",
      "\n"
     ]
    }
   ],
   "source": [
    "\n",
    "import numpy as np # linear algebra\n",
    "import pandas as pd # data processing, CSV file I/O (e.g. pd.read_csv)\n",
    "\n",
    "# Input data files are available in the \"../input/\" directory.\n",
    "# For example, running this (by clicking run or pressing Shift+Enter) will list the files in the input directory\n",
    "\n",
    "import os\n",
    "import string\n",
    "from string import digits\n",
    "import matplotlib.pyplot as plt\n",
    "%matplotlib inline\n",
    "import re\n",
    "\n",
    "import seaborn as sns\n",
    "from sklearn.utils import shuffle\n",
    "from sklearn.model_selection import train_test_split\n",
    "from keras.layers import Input, LSTM, Embedding, Dense\n",
    "from keras.models import Model\n",
    "\n",
    "\n",
    "pd.set_option('display.max_rows', 500)\n",
    "pd.set_option('display.max_columns', 500)\n",
    "pd.set_option('display.width', 1000)\n",
    "pd.set_option('display.max_colwidth', 1)\n"
   ]
  },
  {
   "cell_type": "code",
   "execution_count": 2,
   "id": "4a90a501",
   "metadata": {},
   "outputs": [],
   "source": [
    "lines=pd.read_csv(r\"C:\\Users\\shubh\\OneDrive\\Desktop\\ML_PROJECT\\Hindi_English_Truncated_Corpus.csv\",encoding='utf-8')"
   ]
  },
  {
   "cell_type": "code",
   "execution_count": 3,
   "id": "cd870f49",
   "metadata": {},
   "outputs": [
    {
     "data": {
      "text/plain": [
       "source\n",
       "tides        50000\n",
       "ted          39881\n",
       "indic2012    37726\n",
       "Name: count, dtype: int64"
      ]
     },
     "execution_count": 3,
     "metadata": {},
     "output_type": "execute_result"
    }
   ],
   "source": [
    "lines['source'].value_counts()"
   ]
  },
  {
   "cell_type": "code",
   "execution_count": 4,
   "id": "06a42d96",
   "metadata": {},
   "outputs": [],
   "source": [
    "lines=lines[lines['source']=='ted']"
   ]
  },
  {
   "cell_type": "code",
   "execution_count": 5,
   "id": "9cfd58a3",
   "metadata": {},
   "outputs": [
    {
     "data": {
      "text/html": [
       "<div>\n",
       "<style scoped>\n",
       "    .dataframe tbody tr th:only-of-type {\n",
       "        vertical-align: middle;\n",
       "    }\n",
       "\n",
       "    .dataframe tbody tr th {\n",
       "        vertical-align: top;\n",
       "    }\n",
       "\n",
       "    .dataframe thead th {\n",
       "        text-align: right;\n",
       "    }\n",
       "</style>\n",
       "<table border=\"1\" class=\"dataframe\">\n",
       "  <thead>\n",
       "    <tr style=\"text-align: right;\">\n",
       "      <th></th>\n",
       "      <th>source</th>\n",
       "      <th>english_sentence</th>\n",
       "      <th>hindi_sentence</th>\n",
       "    </tr>\n",
       "  </thead>\n",
       "  <tbody>\n",
       "    <tr>\n",
       "      <th>0</th>\n",
       "      <td>ted</td>\n",
       "      <td>politicians do not have permission to do what needs to be done.</td>\n",
       "      <td>राजनीतिज्ञों के पास जो कार्य करना चाहिए, वह करने कि अनुमति नहीं है .</td>\n",
       "    </tr>\n",
       "    <tr>\n",
       "      <th>1</th>\n",
       "      <td>ted</td>\n",
       "      <td>I'd like to tell yochildu about one such ,</td>\n",
       "      <td>मई आपको ऐसे ही एक बच्चे के बारे में बताना चाहूंगी,</td>\n",
       "    </tr>\n",
       "    <tr>\n",
       "      <th>3</th>\n",
       "      <td>ted</td>\n",
       "      <td>what we really mean is that they're bad at not paying attention.</td>\n",
       "      <td>हम ये नहीं कहना चाहते कि वो ध्यान नहीं दे पाते</td>\n",
       "    </tr>\n",
       "    <tr>\n",
       "      <th>7</th>\n",
       "      <td>ted</td>\n",
       "      <td>And who are we to say, even, that they are wrong</td>\n",
       "      <td>और हम होते कौन हैं यह कहने भी वाले कि वे गलत हैं</td>\n",
       "    </tr>\n",
       "    <tr>\n",
       "      <th>13</th>\n",
       "      <td>ted</td>\n",
       "      <td>So there is some sort of justice</td>\n",
       "      <td>तो वहाँ न्याय है</td>\n",
       "    </tr>\n",
       "    <tr>\n",
       "      <th>23</th>\n",
       "      <td>ted</td>\n",
       "      <td>This changed slowly</td>\n",
       "      <td>धीरे धीरे ये सब बदला</td>\n",
       "    </tr>\n",
       "    <tr>\n",
       "      <th>26</th>\n",
       "      <td>ted</td>\n",
       "      <td>were being produced.</td>\n",
       "      <td>उत्पन्न नहीं कि जाती थी.</td>\n",
       "    </tr>\n",
       "    <tr>\n",
       "      <th>30</th>\n",
       "      <td>ted</td>\n",
       "      <td>And you can see, this LED is going to glow.</td>\n",
       "      <td>और जैसा आप देख रहे है, ये एल.ई.डी. जल उठेगी।</td>\n",
       "    </tr>\n",
       "    <tr>\n",
       "      <th>32</th>\n",
       "      <td>ted</td>\n",
       "      <td>to turn on the lights or to bring him a glass of water,</td>\n",
       "      <td>लाईट जलाने के लिए या उनके लिए पानी लाने के लिए,</td>\n",
       "    </tr>\n",
       "    <tr>\n",
       "      <th>35</th>\n",
       "      <td>ted</td>\n",
       "      <td>Can you imagine saying that?</td>\n",
       "      <td>क्या आप ये कल्पना कर सकते है</td>\n",
       "    </tr>\n",
       "    <tr>\n",
       "      <th>37</th>\n",
       "      <td>ted</td>\n",
       "      <td>Three: this is a good road in - right near where our factory is located.</td>\n",
       "      <td>तीसरी: ये हमारी फ़ैक्ट्री के पास की एक अपेक्षाकृत बेहतर सडक है।</td>\n",
       "    </tr>\n",
       "    <tr>\n",
       "      <th>39</th>\n",
       "      <td>ted</td>\n",
       "      <td>What's going on?”</td>\n",
       "      <td>क्या हो रहा है ये?”</td>\n",
       "    </tr>\n",
       "    <tr>\n",
       "      <th>42</th>\n",
       "      <td>ted</td>\n",
       "      <td>There are also financial reforms in rural China.</td>\n",
       "      <td>ग्रामीण चीन में आर्थिक नवीनीकरण हुये हैं।</td>\n",
       "    </tr>\n",
       "    <tr>\n",
       "      <th>49</th>\n",
       "      <td>ted</td>\n",
       "      <td>the family planning started in Vietnam and they went for smaller families.</td>\n",
       "      <td>वियतनाम में परिवार योजना शुरू हो गई और उनके परिवार छोटे होने लगे।</td>\n",
       "    </tr>\n",
       "    <tr>\n",
       "      <th>51</th>\n",
       "      <td>ted</td>\n",
       "      <td>I mean, at that time, trust me,</td>\n",
       "      <td>मेरा मतलब, उस समय, सही मानिए,</td>\n",
       "    </tr>\n",
       "    <tr>\n",
       "      <th>53</th>\n",
       "      <td>ted</td>\n",
       "      <td>Not only that,</td>\n",
       "      <td>बस वही नहीं,</td>\n",
       "    </tr>\n",
       "    <tr>\n",
       "      <th>55</th>\n",
       "      <td>ted</td>\n",
       "      <td>humans destroyed the commons that they depended on.</td>\n",
       "      <td>मानवों ने उन ही साझे संसाधनों को नष्ट किया जिन पर वो आधारित थे।</td>\n",
       "    </tr>\n",
       "    <tr>\n",
       "      <th>56</th>\n",
       "      <td>ted</td>\n",
       "      <td>Almost goes to E, but otherwise the play would be over.</td>\n",
       "      <td>रचना करीब करीब ई तक जाती है, मगर तब तो नाटक ख़त्म हो जाएगा.</td>\n",
       "    </tr>\n",
       "    <tr>\n",
       "      <th>63</th>\n",
       "      <td>ted</td>\n",
       "      <td>So I want to share with you a couple key insights</td>\n",
       "      <td>मैं आपके साथ कुछ मुख्य सूत्र बाँटना चाहता हूँ</td>\n",
       "    </tr>\n",
       "    <tr>\n",
       "      <th>66</th>\n",
       "      <td>ted</td>\n",
       "      <td>Many countries in the [unclear], they need legitimacy.</td>\n",
       "      <td>[अस्पष्ट] के बहुत सारे राष्ट्रों को मान्यता चाहिए.</td>\n",
       "    </tr>\n",
       "  </tbody>\n",
       "</table>\n",
       "</div>"
      ],
      "text/plain": [
       "   source                                                            english_sentence                                                        hindi_sentence\n",
       "0   ted    politicians do not have permission to do what needs to be done.             राजनीतिज्ञों के पास जो कार्य करना चाहिए, वह करने कि अनुमति नहीं है .\n",
       "1   ted    I'd like to tell yochildu about one such ,                                  मई आपको ऐसे ही एक बच्चे के बारे में बताना चाहूंगी,                  \n",
       "3   ted    what we really mean is that they're bad at not paying attention.            हम ये नहीं कहना चाहते कि वो ध्यान नहीं दे पाते                      \n",
       "7   ted    And who are we to say, even, that they are wrong                            और हम होते कौन हैं यह कहने भी वाले कि वे गलत हैं                    \n",
       "13  ted    So there is some sort of justice                                            तो वहाँ न्याय है                                                    \n",
       "23  ted    This changed slowly                                                         धीरे धीरे ये सब बदला                                                \n",
       "26  ted    were being produced.                                                        उत्पन्न नहीं कि जाती थी.                                            \n",
       "30  ted    And you can see, this LED is going to glow.                                 और जैसा आप देख रहे है, ये एल.ई.डी. जल उठेगी।                        \n",
       "32  ted    to turn on the lights or to bring him a glass of water,                     लाईट जलाने के लिए या उनके लिए पानी लाने के लिए,                     \n",
       "35  ted    Can you imagine saying that?                                                क्या आप ये कल्पना कर सकते है                                        \n",
       "37  ted    Three: this is a good road in - right near where our factory is located.    तीसरी: ये हमारी फ़ैक्ट्री के पास की एक अपेक्षाकृत बेहतर सडक है।     \n",
       "39  ted    What's going on?”                                                           क्या हो रहा है ये?”                                                 \n",
       "42  ted    There are also financial reforms in rural China.                            ग्रामीण चीन में आर्थिक नवीनीकरण हुये हैं।                           \n",
       "49  ted    the family planning started in Vietnam and they went for smaller families.  वियतनाम में परिवार योजना शुरू हो गई और उनके परिवार छोटे होने लगे।   \n",
       "51  ted    I mean, at that time, trust me,                                             मेरा मतलब, उस समय, सही मानिए,                                       \n",
       "53  ted    Not only that,                                                              बस वही नहीं,                                                        \n",
       "55  ted    humans destroyed the commons that they depended on.                         मानवों ने उन ही साझे संसाधनों को नष्ट किया जिन पर वो आधारित थे।     \n",
       "56  ted    Almost goes to E, but otherwise the play would be over.                     रचना करीब करीब ई तक जाती है, मगर तब तो नाटक ख़त्म हो जाएगा.         \n",
       "63  ted    So I want to share with you a couple key insights                           मैं आपके साथ कुछ मुख्य सूत्र बाँटना चाहता हूँ                       \n",
       "66  ted    Many countries in the [unclear], they need legitimacy.                      [अस्पष्ट] के बहुत सारे राष्ट्रों को मान्यता चाहिए.                  "
      ]
     },
     "execution_count": 5,
     "metadata": {},
     "output_type": "execute_result"
    }
   ],
   "source": [
    "lines.head(20)"
   ]
  },
  {
   "cell_type": "code",
   "execution_count": 6,
   "id": "9e8de662",
   "metadata": {},
   "outputs": [
    {
     "data": {
      "text/plain": [
       "source              0\n",
       "english_sentence    0\n",
       "hindi_sentence      0\n",
       "dtype: int64"
      ]
     },
     "execution_count": 6,
     "metadata": {},
     "output_type": "execute_result"
    }
   ],
   "source": [
    "pd.isnull(lines).sum()"
   ]
  },
  {
   "cell_type": "code",
   "execution_count": 7,
   "id": "3f6be138",
   "metadata": {},
   "outputs": [],
   "source": [
    "lines=lines[~pd.isnull(lines['english_sentence'])]"
   ]
  },
  {
   "cell_type": "code",
   "execution_count": 8,
   "id": "d83dff54",
   "metadata": {},
   "outputs": [],
   "source": [
    "lines.drop_duplicates(inplace=True)"
   ]
  },
  {
   "cell_type": "code",
   "execution_count": 9,
   "id": "ad1406d5",
   "metadata": {},
   "outputs": [
    {
     "data": {
      "text/plain": [
       "(5000, 3)"
      ]
     },
     "execution_count": 9,
     "metadata": {},
     "output_type": "execute_result"
    }
   ],
   "source": [
    "lines=lines.sample(n=5000,random_state=42)\n",
    "lines.shape"
   ]
  },
  {
   "cell_type": "code",
   "execution_count": 10,
   "id": "baeef1cf",
   "metadata": {},
   "outputs": [],
   "source": [
    "lines['english_sentence']=lines['english_sentence'].apply(lambda x: x.lower())\n",
    "lines['hindi_sentence']=lines['hindi_sentence'].apply(lambda x: x.lower())"
   ]
  },
  {
   "cell_type": "code",
   "execution_count": 11,
   "id": "b06c9c68",
   "metadata": {},
   "outputs": [],
   "source": [
    "# Remove quotes\n",
    "lines['english_sentence']=lines['english_sentence'].apply(lambda x: re.sub(\"'\", '', x))\n",
    "lines['hindi_sentence']=lines['hindi_sentence'].apply(lambda x: re.sub(\"'\", '', x))"
   ]
  },
  {
   "cell_type": "code",
   "execution_count": 12,
   "id": "abfad886",
   "metadata": {},
   "outputs": [],
   "source": [
    "exclude = set(string.punctuation) # Set of all special characters\n",
    "# Remove all the special characters\n",
    "lines['english_sentence']=lines['english_sentence'].apply(lambda x: ''.join(ch for ch in x if ch not in exclude))\n",
    "lines['hindi_sentence']=lines['hindi_sentence'].apply(lambda x: ''.join(ch for ch in x if ch not in exclude))"
   ]
  },
  {
   "cell_type": "code",
   "execution_count": 13,
   "id": "c95bfe8e",
   "metadata": {},
   "outputs": [],
   "source": [
    "# Remove all numbers from text\n",
    "remove_digits = str.maketrans('', '', digits)\n",
    "lines['english_sentence']=lines['english_sentence'].apply(lambda x: x.translate(remove_digits))\n",
    "lines['hindi_sentence']=lines['hindi_sentence'].apply(lambda x: x.translate(remove_digits))\n",
    "\n",
    "8\n",
    "# Remove extra spaces\n",
    "lines['english_sentence']=lines['english_sentence'].apply(lambda x: x.strip())\n",
    "lines['hindi_sentence']=lines['hindi_sentence'].apply(lambda x: x.strip())\n",
    "lines['english_sentence']=lines['english_sentence'].apply(lambda x: re.sub(\" +\", \" \", x))\n",
    "lines['hindi_sentence']=lines['hindi_sentence'].apply(lambda x: re.sub(\" +\", \" \", x))\n"
   ]
  },
  {
   "cell_type": "code",
   "execution_count": 14,
   "id": "5e78ecdb",
   "metadata": {},
   "outputs": [],
   "source": [
    "# Add start and end tokens to target sequences\n",
    "lines['hindi_sentence'] = lines['hindi_sentence'].apply(lambda x : 'START_ '+ x + ' _END')"
   ]
  },
  {
   "cell_type": "code",
   "execution_count": 15,
   "id": "ad86a034",
   "metadata": {},
   "outputs": [
    {
     "data": {
      "text/html": [
       "<div>\n",
       "<style scoped>\n",
       "    .dataframe tbody tr th:only-of-type {\n",
       "        vertical-align: middle;\n",
       "    }\n",
       "\n",
       "    .dataframe tbody tr th {\n",
       "        vertical-align: top;\n",
       "    }\n",
       "\n",
       "    .dataframe thead th {\n",
       "        text-align: right;\n",
       "    }\n",
       "</style>\n",
       "<table border=\"1\" class=\"dataframe\">\n",
       "  <thead>\n",
       "    <tr style=\"text-align: right;\">\n",
       "      <th></th>\n",
       "      <th>source</th>\n",
       "      <th>english_sentence</th>\n",
       "      <th>hindi_sentence</th>\n",
       "    </tr>\n",
       "  </thead>\n",
       "  <tbody>\n",
       "    <tr>\n",
       "      <th>82040</th>\n",
       "      <td>ted</td>\n",
       "      <td>we still dont know who her parents are who she is</td>\n",
       "      <td>START_ हम अभी तक नहीं जानते हैं कि उसके मातापिता कौन हैं वह कौन है _END</td>\n",
       "    </tr>\n",
       "    <tr>\n",
       "      <th>85038</th>\n",
       "      <td>ted</td>\n",
       "      <td>no keyboard</td>\n",
       "      <td>START_ कोई कुंजीपटल नहीं _END</td>\n",
       "    </tr>\n",
       "    <tr>\n",
       "      <th>58018</th>\n",
       "      <td>ted</td>\n",
       "      <td>but as far as being a performer</td>\n",
       "      <td>START_ लेकिन एक कलाकार होने के साथ _END</td>\n",
       "    </tr>\n",
       "    <tr>\n",
       "      <th>74470</th>\n",
       "      <td>ted</td>\n",
       "      <td>and this particular balloon</td>\n",
       "      <td>START_ और यह खास गुब्बारा _END</td>\n",
       "    </tr>\n",
       "    <tr>\n",
       "      <th>122330</th>\n",
       "      <td>ted</td>\n",
       "      <td>and its not as hard as you think integrate climate solutions into all of your innovations</td>\n",
       "      <td>START_ और जितना आपको लगता है यह उतना कठिन नहीं हैअपने सभी नवाचारों में जलवायु समाधान को एकीकृत करें _END</td>\n",
       "    </tr>\n",
       "  </tbody>\n",
       "</table>\n",
       "</div>"
      ],
      "text/plain": [
       "       source                                                                           english_sentence                                                                                            hindi_sentence\n",
       "82040   ted    we still dont know who her parents are who she is                                          START_ हम अभी तक नहीं जानते हैं कि उसके मातापिता कौन हैं वह कौन है _END                                 \n",
       "85038   ted    no keyboard                                                                                START_ कोई कुंजीपटल नहीं _END                                                                           \n",
       "58018   ted    but as far as being a performer                                                            START_ लेकिन एक कलाकार होने के साथ _END                                                                 \n",
       "74470   ted    and this particular balloon                                                                START_ और यह खास गुब्बारा _END                                                                          \n",
       "122330  ted    and its not as hard as you think integrate climate solutions into all of your innovations  START_ और जितना आपको लगता है यह उतना कठिन नहीं हैअपने सभी नवाचारों में जलवायु समाधान को एकीकृत करें _END"
      ]
     },
     "execution_count": 15,
     "metadata": {},
     "output_type": "execute_result"
    }
   ],
   "source": [
    "lines.head()"
   ]
  },
  {
   "cell_type": "code",
   "execution_count": 16,
   "id": "3b291272",
   "metadata": {},
   "outputs": [],
   "source": [
    "### Get English and Hindi Vocabulary\n",
    "all_eng_words=set()\n",
    "for eng in lines['english_sentence']:\n",
    "    for word in eng.split():\n",
    "        if word not in all_eng_words:\n",
    "            all_eng_words.add(word)\n",
    "\n",
    "all_hindi_words=set()\n",
    "for hin in lines['hindi_sentence']:\n",
    "    for word in hin.split():\n",
    "        if word not in all_hindi_words:\n",
    "            all_hindi_words.add(word)"
   ]
  },
  {
   "cell_type": "code",
   "execution_count": 17,
   "id": "c45ce844",
   "metadata": {},
   "outputs": [
    {
     "data": {
      "text/plain": [
       "5809"
      ]
     },
     "execution_count": 17,
     "metadata": {},
     "output_type": "execute_result"
    }
   ],
   "source": [
    "len(all_eng_words)"
   ]
  },
  {
   "cell_type": "code",
   "execution_count": 18,
   "id": "4c8bc6ae",
   "metadata": {},
   "outputs": [
    {
     "data": {
      "text/plain": [
       "6975"
      ]
     },
     "execution_count": 18,
     "metadata": {},
     "output_type": "execute_result"
    }
   ],
   "source": [
    "len(all_hindi_words)"
   ]
  },
  {
   "cell_type": "code",
   "execution_count": 19,
   "id": "ecab05a8",
   "metadata": {},
   "outputs": [],
   "source": [
    "lines['length_eng_sentence']=lines['english_sentence'].apply(lambda x:len(x.split(\" \")))\n",
    "lines['length_hin_sentence']=lines['hindi_sentence'].apply(lambda x:len(x.split(\" \")))"
   ]
  },
  {
   "cell_type": "code",
   "execution_count": 20,
   "id": "a339d247",
   "metadata": {},
   "outputs": [
    {
     "data": {
      "text/html": [
       "<div>\n",
       "<style scoped>\n",
       "    .dataframe tbody tr th:only-of-type {\n",
       "        vertical-align: middle;\n",
       "    }\n",
       "\n",
       "    .dataframe tbody tr th {\n",
       "        vertical-align: top;\n",
       "    }\n",
       "\n",
       "    .dataframe thead th {\n",
       "        text-align: right;\n",
       "    }\n",
       "</style>\n",
       "<table border=\"1\" class=\"dataframe\">\n",
       "  <thead>\n",
       "    <tr style=\"text-align: right;\">\n",
       "      <th></th>\n",
       "      <th>source</th>\n",
       "      <th>english_sentence</th>\n",
       "      <th>hindi_sentence</th>\n",
       "      <th>length_eng_sentence</th>\n",
       "      <th>length_hin_sentence</th>\n",
       "    </tr>\n",
       "  </thead>\n",
       "  <tbody>\n",
       "    <tr>\n",
       "      <th>82040</th>\n",
       "      <td>ted</td>\n",
       "      <td>we still dont know who her parents are who she is</td>\n",
       "      <td>START_ हम अभी तक नहीं जानते हैं कि उसके मातापिता कौन हैं वह कौन है _END</td>\n",
       "      <td>11</td>\n",
       "      <td>16</td>\n",
       "    </tr>\n",
       "    <tr>\n",
       "      <th>85038</th>\n",
       "      <td>ted</td>\n",
       "      <td>no keyboard</td>\n",
       "      <td>START_ कोई कुंजीपटल नहीं _END</td>\n",
       "      <td>2</td>\n",
       "      <td>5</td>\n",
       "    </tr>\n",
       "    <tr>\n",
       "      <th>58018</th>\n",
       "      <td>ted</td>\n",
       "      <td>but as far as being a performer</td>\n",
       "      <td>START_ लेकिन एक कलाकार होने के साथ _END</td>\n",
       "      <td>7</td>\n",
       "      <td>8</td>\n",
       "    </tr>\n",
       "    <tr>\n",
       "      <th>74470</th>\n",
       "      <td>ted</td>\n",
       "      <td>and this particular balloon</td>\n",
       "      <td>START_ और यह खास गुब्बारा _END</td>\n",
       "      <td>4</td>\n",
       "      <td>6</td>\n",
       "    </tr>\n",
       "    <tr>\n",
       "      <th>122330</th>\n",
       "      <td>ted</td>\n",
       "      <td>and its not as hard as you think integrate climate solutions into all of your innovations</td>\n",
       "      <td>START_ और जितना आपको लगता है यह उतना कठिन नहीं हैअपने सभी नवाचारों में जलवायु समाधान को एकीकृत करें _END</td>\n",
       "      <td>16</td>\n",
       "      <td>20</td>\n",
       "    </tr>\n",
       "  </tbody>\n",
       "</table>\n",
       "</div>"
      ],
      "text/plain": [
       "       source                                                                           english_sentence                                                                                            hindi_sentence  length_eng_sentence  length_hin_sentence\n",
       "82040   ted    we still dont know who her parents are who she is                                          START_ हम अभी तक नहीं जानते हैं कि उसके मातापिता कौन हैं वह कौन है _END                                   11                   16                 \n",
       "85038   ted    no keyboard                                                                                START_ कोई कुंजीपटल नहीं _END                                                                             2                    5                  \n",
       "58018   ted    but as far as being a performer                                                            START_ लेकिन एक कलाकार होने के साथ _END                                                                   7                    8                  \n",
       "74470   ted    and this particular balloon                                                                START_ और यह खास गुब्बारा _END                                                                            4                    6                  \n",
       "122330  ted    and its not as hard as you think integrate climate solutions into all of your innovations  START_ और जितना आपको लगता है यह उतना कठिन नहीं हैअपने सभी नवाचारों में जलवायु समाधान को एकीकृत करें _END  16                   20                 "
      ]
     },
     "execution_count": 20,
     "metadata": {},
     "output_type": "execute_result"
    }
   ],
   "source": [
    "lines.head()"
   ]
  },
  {
   "cell_type": "code",
   "execution_count": 21,
   "id": "8ea4964d",
   "metadata": {},
   "outputs": [
    {
     "data": {
      "text/plain": [
       "(0, 5)"
      ]
     },
     "execution_count": 21,
     "metadata": {},
     "output_type": "execute_result"
    }
   ],
   "source": [
    "lines[lines['length_eng_sentence']>30].shape"
   ]
  },
  {
   "cell_type": "code",
   "execution_count": 22,
   "id": "73859189",
   "metadata": {},
   "outputs": [],
   "source": [
    "lines=lines[lines['length_eng_sentence']<=20]\n",
    "lines=lines[lines['length_hin_sentence']<=20]"
   ]
  },
  {
   "cell_type": "code",
   "execution_count": 23,
   "id": "29cfface",
   "metadata": {},
   "outputs": [
    {
     "data": {
      "text/plain": [
       "(4951, 5)"
      ]
     },
     "execution_count": 23,
     "metadata": {},
     "output_type": "execute_result"
    }
   ],
   "source": [
    "lines.shape"
   ]
  },
  {
   "cell_type": "code",
   "execution_count": 24,
   "id": "8c00385c",
   "metadata": {},
   "outputs": [
    {
     "name": "stdout",
     "output_type": "stream",
     "text": [
      "maximum length of Hindi Sentence  20\n",
      "maximum length of English Sentence  18\n"
     ]
    }
   ],
   "source": [
    "print(\"maximum length of Hindi Sentence \",max(lines['length_hin_sentence']))\n",
    "print(\"maximum length of English Sentence \",max(lines['length_eng_sentence']))"
   ]
  },
  {
   "cell_type": "code",
   "execution_count": 25,
   "id": "ae411035",
   "metadata": {},
   "outputs": [],
   "source": [
    "max_length_src=max(lines['length_hin_sentence'])\n",
    "max_length_tar=max(lines['length_eng_sentence'])"
   ]
  },
  {
   "cell_type": "code",
   "execution_count": 26,
   "id": "a57a37a9",
   "metadata": {},
   "outputs": [
    {
     "data": {
      "text/plain": [
       "(5809, 6975)"
      ]
     },
     "execution_count": 26,
     "metadata": {},
     "output_type": "execute_result"
    }
   ],
   "source": [
    "input_words = sorted(list(all_eng_words))\n",
    "target_words = sorted(list(all_hindi_words))\n",
    "num_encoder_tokens = len(all_eng_words)\n",
    "num_decoder_tokens = len(all_hindi_words)\n",
    "num_encoder_tokens, num_decoder_tokens"
   ]
  },
  {
   "cell_type": "code",
   "execution_count": 27,
   "id": "40489945",
   "metadata": {},
   "outputs": [],
   "source": [
    "num_decoder_tokens += 1 #for zero padding"
   ]
  },
  {
   "cell_type": "code",
   "execution_count": 28,
   "id": "ee76edf4",
   "metadata": {},
   "outputs": [],
   "source": [
    "input_token_index = dict([(word, i+1) for i, word in enumerate(input_words)])\n",
    "target_token_index = dict([(word, i+1) for i, word in enumerate(target_words)])"
   ]
  },
  {
   "cell_type": "code",
   "execution_count": 29,
   "id": "1ae6f85f",
   "metadata": {},
   "outputs": [],
   "source": [
    "reverse_input_char_index = dict((i, word) for word, i in input_token_index.items())\n",
    "reverse_target_char_index = dict((i, word) for word, i in target_token_index.items())"
   ]
  },
  {
   "cell_type": "code",
   "execution_count": 30,
   "id": "8e63dca1",
   "metadata": {},
   "outputs": [
    {
     "data": {
      "text/html": [
       "<div>\n",
       "<style scoped>\n",
       "    .dataframe tbody tr th:only-of-type {\n",
       "        vertical-align: middle;\n",
       "    }\n",
       "\n",
       "    .dataframe tbody tr th {\n",
       "        vertical-align: top;\n",
       "    }\n",
       "\n",
       "    .dataframe thead th {\n",
       "        text-align: right;\n",
       "    }\n",
       "</style>\n",
       "<table border=\"1\" class=\"dataframe\">\n",
       "  <thead>\n",
       "    <tr style=\"text-align: right;\">\n",
       "      <th></th>\n",
       "      <th>source</th>\n",
       "      <th>english_sentence</th>\n",
       "      <th>hindi_sentence</th>\n",
       "      <th>length_eng_sentence</th>\n",
       "      <th>length_hin_sentence</th>\n",
       "    </tr>\n",
       "  </thead>\n",
       "  <tbody>\n",
       "    <tr>\n",
       "      <th>37978</th>\n",
       "      <td>ted</td>\n",
       "      <td>if you slow it down and attach lights to them</td>\n",
       "      <td>START_ यदि आप इसे धीमा करें और उन्हें रोशनी दें _END</td>\n",
       "      <td>10</td>\n",
       "      <td>11</td>\n",
       "    </tr>\n",
       "    <tr>\n",
       "      <th>11834</th>\n",
       "      <td>ted</td>\n",
       "      <td>samuel taylor coleridge i try to convey a semblance of truth in my writing</td>\n",
       "      <td>START_ सम्यूअल टेलर कोलरिग मैं अपनी रचनाओं में सत्य की एक झलक दिखलाने की कोशिश करता हूँ _END</td>\n",
       "      <td>14</td>\n",
       "      <td>18</td>\n",
       "    </tr>\n",
       "    <tr>\n",
       "      <th>97787</th>\n",
       "      <td>ted</td>\n",
       "      <td>the more afraid we are the more vulnerable we are</td>\n",
       "      <td>START_ जितना अधिक हम डरते हैं उतने अधिक हम संवेदनशील होते हैं _END</td>\n",
       "      <td>10</td>\n",
       "      <td>13</td>\n",
       "    </tr>\n",
       "    <tr>\n",
       "      <th>107101</th>\n",
       "      <td>ted</td>\n",
       "      <td>all the way to modern art in beijing</td>\n",
       "      <td>START_ बीजिंग के मोडर्न आर्ट तक _END</td>\n",
       "      <td>8</td>\n",
       "      <td>7</td>\n",
       "    </tr>\n",
       "    <tr>\n",
       "      <th>37367</th>\n",
       "      <td>ted</td>\n",
       "      <td>and theyre like “oh that one wasnt so awesome”</td>\n",
       "      <td>START_ तब उन्होंने कहा “ह्म्म ये शायद उतना अच्छा नहीं है।” _END</td>\n",
       "      <td>9</td>\n",
       "      <td>12</td>\n",
       "    </tr>\n",
       "    <tr>\n",
       "      <th>49463</th>\n",
       "      <td>ted</td>\n",
       "      <td>the great difference for women does not come between one to dollar</td>\n",
       "      <td>START_ औरतों के जीवन में बदलाव महज दस डॉलर में नहीं आता। _END</td>\n",
       "      <td>12</td>\n",
       "      <td>13</td>\n",
       "    </tr>\n",
       "    <tr>\n",
       "      <th>112785</th>\n",
       "      <td>ted</td>\n",
       "      <td>but corruption its made possible by the actions</td>\n",
       "      <td>START_ लेकिन भ्रस्ताचर को संभव बनाते हैं वो कार्यवाही _END</td>\n",
       "      <td>8</td>\n",
       "      <td>10</td>\n",
       "    </tr>\n",
       "    <tr>\n",
       "      <th>67723</th>\n",
       "      <td>ted</td>\n",
       "      <td>the interconnectedness of it all and the unity of it all</td>\n",
       "      <td>START_ सबके आपस में जुडे होने का और सबके बीच एकता का। _END</td>\n",
       "      <td>11</td>\n",
       "      <td>13</td>\n",
       "    </tr>\n",
       "    <tr>\n",
       "      <th>102108</th>\n",
       "      <td>ted</td>\n",
       "      <td>and try it for the next days</td>\n",
       "      <td>START_ और उसे अगले दिनों तक करने का प्रयास कीजिये _END</td>\n",
       "      <td>7</td>\n",
       "      <td>11</td>\n",
       "    </tr>\n",
       "    <tr>\n",
       "      <th>24837</th>\n",
       "      <td>ted</td>\n",
       "      <td>the nineyearold the nineyearold</td>\n",
       "      <td>START_ नौसाल का बच्चा नौसाल का बच्चा _END</td>\n",
       "      <td>4</td>\n",
       "      <td>8</td>\n",
       "    </tr>\n",
       "  </tbody>\n",
       "</table>\n",
       "</div>"
      ],
      "text/plain": [
       "       source                                                            english_sentence                                                                                hindi_sentence  length_eng_sentence  length_hin_sentence\n",
       "37978   ted    if you slow it down and attach lights to them                               START_ यदि आप इसे धीमा करें और उन्हें रोशनी दें _END                                          10                   11                 \n",
       "11834   ted    samuel taylor coleridge i try to convey a semblance of truth in my writing  START_ सम्यूअल टेलर कोलरिग मैं अपनी रचनाओं में सत्य की एक झलक दिखलाने की कोशिश करता हूँ _END  14                   18                 \n",
       "97787   ted    the more afraid we are the more vulnerable we are                           START_ जितना अधिक हम डरते हैं उतने अधिक हम संवेदनशील होते हैं _END                            10                   13                 \n",
       "107101  ted    all the way to modern art in beijing                                        START_ बीजिंग के मोडर्न आर्ट तक _END                                                          8                    7                  \n",
       "37367   ted    and theyre like “oh that one wasnt so awesome”                              START_ तब उन्होंने कहा “ह्म्म ये शायद उतना अच्छा नहीं है।” _END                               9                    12                 \n",
       "49463   ted    the great difference for women does not come between one to dollar          START_ औरतों के जीवन में बदलाव महज दस डॉलर में नहीं आता। _END                                 12                   13                 \n",
       "112785  ted    but corruption its made possible by the actions                             START_ लेकिन भ्रस्ताचर को संभव बनाते हैं वो कार्यवाही _END                                    8                    10                 \n",
       "67723   ted    the interconnectedness of it all and the unity of it all                    START_ सबके आपस में जुडे होने का और सबके बीच एकता का। _END                                    11                   13                 \n",
       "102108  ted    and try it for the next days                                                START_ और उसे अगले दिनों तक करने का प्रयास कीजिये _END                                        7                    11                 \n",
       "24837   ted    the nineyearold the nineyearold                                             START_ नौसाल का बच्चा नौसाल का बच्चा _END                                                     4                    8                  "
      ]
     },
     "execution_count": 30,
     "metadata": {},
     "output_type": "execute_result"
    }
   ],
   "source": [
    "lines = shuffle(lines)\n",
    "lines.head(10)"
   ]
  },
  {
   "cell_type": "code",
   "execution_count": 31,
   "id": "1f4b72ed",
   "metadata": {},
   "outputs": [
    {
     "data": {
      "text/plain": [
       "((3960,), (991,))"
      ]
     },
     "execution_count": 31,
     "metadata": {},
     "output_type": "execute_result"
    }
   ],
   "source": [
    "X, y = lines['english_sentence'], lines['hindi_sentence']\n",
    "X_train, X_test, y_train, y_test = train_test_split(X, y, test_size = 0.2,random_state=42)\n",
    "X_train.shape, X_test.shape"
   ]
  },
  {
   "cell_type": "code",
   "execution_count": 32,
   "id": "24b91d59",
   "metadata": {},
   "outputs": [],
   "source": [
    "X_train.to_pickle('X_train.pkl')\n",
    "X_test.to_pickle('X_test.pkl')\n"
   ]
  },
  {
   "cell_type": "code",
   "execution_count": 33,
   "id": "6e1c506b",
   "metadata": {},
   "outputs": [],
   "source": [
    "def generate_batch(X=X_train, y=y_train, batch_size=128):\n",
    "    while True:\n",
    "        for j in range(0, len(X), batch_size):\n",
    "            encoder_input_data = np.zeros((batch_size, max_length_src), dtype='float32')\n",
    "            decoder_input_data = np.zeros((batch_size, max_length_tar), dtype='float32')\n",
    "            decoder_target_data = np.zeros((batch_size, max_length_tar, num_decoder_tokens), dtype='float32')\n",
    "            for i, (input_text, target_text) in enumerate(zip(X[j:j + batch_size], y[j:j + batch_size])):\n",
    "                for t, word in enumerate(input_text.split()):\n",
    "                    encoder_input_data[i, t] = input_token_index[word]  # encoder input seq\n",
    "                for t, word in enumerate(target_text.split()):\n",
    "                    if t < max_length_tar:\n",
    "                        decoder_input_data[i, t] = target_token_index[word]  # decoder input seq\n",
    "                    if 0 < t < max_length_tar:\n",
    "                        # decoder target sequence (one hot encoded)\n",
    "                        # does not include the START_ token\n",
    "                        # Offset by one timestep\n",
    "                        decoder_target_data[i, t - 1, target_token_index[word]] = 1.\n",
    "            yield ([encoder_input_data, decoder_input_data], decoder_target_data)"
   ]
  },
  {
   "cell_type": "markdown",
   "id": "8562d5e7",
   "metadata": {},
   "source": [
    "#Encoder-Decoder Architecture"
   ]
  },
  {
   "cell_type": "code",
   "execution_count": 34,
   "id": "d092edd2",
   "metadata": {},
   "outputs": [],
   "source": [
    "latent_dim=50"
   ]
  },
  {
   "cell_type": "code",
   "execution_count": 35,
   "id": "092d38f9",
   "metadata": {},
   "outputs": [
    {
     "name": "stdout",
     "output_type": "stream",
     "text": [
      "WARNING:tensorflow:From c:\\Users\\shubh\\AppData\\Local\\Programs\\Python\\Python310\\lib\\site-packages\\keras\\src\\backend.py:1398: The name tf.executing_eagerly_outside_functions is deprecated. Please use tf.compat.v1.executing_eagerly_outside_functions instead.\n",
      "\n"
     ]
    }
   ],
   "source": [
    "# Encoder\n",
    "encoder_inputs = Input(shape=(None,))\n",
    "enc_emb =  Embedding(num_encoder_tokens+1, latent_dim, mask_zero = True)(encoder_inputs)\n",
    "encoder_lstm = LSTM(latent_dim, return_state=True)\n",
    "encoder_outputs, state_h, state_c = encoder_lstm(enc_emb)\n",
    "# We discard `encoder_outputs` and only keep the states.\n",
    "encoder_states = [state_h, state_c]"
   ]
  },
  {
   "cell_type": "code",
   "execution_count": 36,
   "id": "356291d0",
   "metadata": {},
   "outputs": [],
   "source": [
    "# Set up the decoder, using `encoder_states` as the initial state.\n",
    "decoder_inputs = Input(shape=(None,))\n",
    "dec_emb_layer = Embedding(num_decoder_tokens, latent_dim, mask_zero=True)\n",
    "dec_emb = dec_emb_layer(decoder_inputs)\n",
    "\n",
    "# First LSTM layer in the decoder\n",
    "decoder_lstm = LSTM(latent_dim, return_sequences=True, return_state=True)\n",
    "decoder_outputs, state_h, state_c = decoder_lstm(dec_emb, initial_state=encoder_states)\n",
    "\n",
    "# Second LSTM layer in the decoder\n",
    "decoder_lstm2 = LSTM(latent_dim, return_sequences=True, return_state=True)\n",
    "decoder_outputs, _, _ = decoder_lstm2(decoder_outputs, initial_state=[state_h, state_c])\n",
    "\n",
    "# Dense layer for generating the final output probabilities\n",
    "decoder_dense = Dense(num_decoder_tokens, activation='softmax')\n",
    "decoder_outputs = decoder_dense(decoder_outputs)\n",
    "\n",
    "\n",
    "# Define the model that will turn\n",
    "# `encoder_input_data` & `decoder_input_data` into `decoder_target_data`\n",
    "model = Model([encoder_inputs, decoder_inputs], decoder_outputs)"
   ]
  },
  {
   "cell_type": "code",
   "execution_count": 37,
   "id": "479ab4d9",
   "metadata": {},
   "outputs": [
    {
     "name": "stdout",
     "output_type": "stream",
     "text": [
      "WARNING:tensorflow:From c:\\Users\\shubh\\AppData\\Local\\Programs\\Python\\Python310\\lib\\site-packages\\keras\\src\\optimizers\\__init__.py:309: The name tf.train.Optimizer is deprecated. Please use tf.compat.v1.train.Optimizer instead.\n",
      "\n"
     ]
    }
   ],
   "source": [
    "model.compile(optimizer='adam', loss='categorical_crossentropy')"
   ]
  },
  {
   "cell_type": "code",
   "execution_count": 38,
   "id": "382b20da",
   "metadata": {},
   "outputs": [
    {
     "name": "stdout",
     "output_type": "stream",
     "text": [
      "Model: \"model\"\n",
      "__________________________________________________________________________________________________\n",
      " Layer (type)                Output Shape                 Param #   Connected to                  \n",
      "==================================================================================================\n",
      " input_1 (InputLayer)        [(None, None)]               0         []                            \n",
      "                                                                                                  \n",
      " input_2 (InputLayer)        [(None, None)]               0         []                            \n",
      "                                                                                                  \n",
      " embedding (Embedding)       (None, None, 50)             290500    ['input_1[0][0]']             \n",
      "                                                                                                  \n",
      " embedding_1 (Embedding)     (None, None, 50)             348800    ['input_2[0][0]']             \n",
      "                                                                                                  \n",
      " lstm (LSTM)                 [(None, 50),                 20200     ['embedding[0][0]']           \n",
      "                              (None, 50),                                                         \n",
      "                              (None, 50)]                                                         \n",
      "                                                                                                  \n",
      " lstm_1 (LSTM)               [(None, None, 50),           20200     ['embedding_1[0][0]',         \n",
      "                              (None, 50),                            'lstm[0][1]',                \n",
      "                              (None, 50)]                            'lstm[0][2]']                \n",
      "                                                                                                  \n",
      " lstm_2 (LSTM)               [(None, None, 50),           20200     ['lstm_1[0][0]',              \n",
      "                              (None, 50),                            'lstm_1[0][1]',              \n",
      "                              (None, 50)]                            'lstm_1[0][2]']              \n",
      "                                                                                                  \n",
      " dense (Dense)               (None, None, 6976)           355776    ['lstm_2[0][0]']              \n",
      "                                                                                                  \n",
      "==================================================================================================\n",
      "Total params: 1055676 (4.03 MB)\n",
      "Trainable params: 1055676 (4.03 MB)\n",
      "Non-trainable params: 0 (0.00 Byte)\n",
      "__________________________________________________________________________________________________\n"
     ]
    }
   ],
   "source": [
    "model.summary()"
   ]
  },
  {
   "cell_type": "code",
   "execution_count": 39,
   "id": "b5ea5097",
   "metadata": {},
   "outputs": [],
   "source": [
    "train_samples = len(X_train)\n",
    "val_samples = len(X_test)\n",
    "batch_size = 128\n",
    "epochs = 100"
   ]
  },
  {
   "cell_type": "code",
   "execution_count": 40,
   "id": "a95ea905",
   "metadata": {},
   "outputs": [],
   "source": [
    "import numpy as np\n",
    "import tensorflow as tf\n",
    "\n",
    "# Set random seed for reproducibility\n",
    "seed_value = 42\n",
    "np.random.seed(seed_value)\n",
    "tf.random.set_seed(seed_value)"
   ]
  },
  {
   "cell_type": "code",
   "execution_count": 41,
   "id": "307b7833",
   "metadata": {},
   "outputs": [
    {
     "name": "stderr",
     "output_type": "stream",
     "text": [
      "C:\\Users\\shubh\\AppData\\Local\\Temp\\ipykernel_616\\2108290721.py:1: UserWarning: `Model.fit_generator` is deprecated and will be removed in a future version. Please use `Model.fit`, which supports generators.\n",
      "  model.fit_generator(generator = generate_batch(X_train, y_train, batch_size = batch_size),\n"
     ]
    },
    {
     "name": "stdout",
     "output_type": "stream",
     "text": [
      "Epoch 1/100\n",
      "WARNING:tensorflow:From c:\\Users\\shubh\\AppData\\Local\\Programs\\Python\\Python310\\lib\\site-packages\\keras\\src\\utils\\tf_utils.py:492: The name tf.ragged.RaggedTensorValue is deprecated. Please use tf.compat.v1.ragged.RaggedTensorValue instead.\n",
      "\n",
      "30/30 [==============================] - 16s 300ms/step - loss: 7.8516 - val_loss: 7.2999\n",
      "Epoch 2/100\n",
      "30/30 [==============================] - 5s 178ms/step - loss: 6.4710 - val_loss: 6.0246\n",
      "Epoch 3/100\n",
      "30/30 [==============================] - 5s 174ms/step - loss: 5.7755 - val_loss: 5.8568\n",
      "Epoch 4/100\n",
      "30/30 [==============================] - 5s 171ms/step - loss: 5.6635 - val_loss: 5.8329\n",
      "Epoch 5/100\n",
      "30/30 [==============================] - 5s 173ms/step - loss: 5.6122 - val_loss: 5.8110\n",
      "Epoch 6/100\n",
      "30/30 [==============================] - 5s 171ms/step - loss: 5.5613 - val_loss: 5.7952\n",
      "Epoch 7/100\n",
      "30/30 [==============================] - 5s 168ms/step - loss: 5.5238 - val_loss: 5.7794\n",
      "Epoch 8/100\n",
      "30/30 [==============================] - 5s 171ms/step - loss: 5.4887 - val_loss: 5.7663\n",
      "Epoch 9/100\n",
      "30/30 [==============================] - 5s 168ms/step - loss: 5.4568 - val_loss: 5.7450\n",
      "Epoch 10/100\n",
      "30/30 [==============================] - 5s 184ms/step - loss: 5.4219 - val_loss: 5.7302\n",
      "Epoch 11/100\n",
      "30/30 [==============================] - 6s 201ms/step - loss: 5.3904 - val_loss: 5.7312\n",
      "Epoch 12/100\n",
      "30/30 [==============================] - 6s 188ms/step - loss: 5.3674 - val_loss: 5.7153\n",
      "Epoch 13/100\n",
      "30/30 [==============================] - 5s 183ms/step - loss: 5.3441 - val_loss: 5.7113\n",
      "Epoch 14/100\n",
      "30/30 [==============================] - 5s 177ms/step - loss: 5.3221 - val_loss: 5.7161\n",
      "Epoch 15/100\n",
      "30/30 [==============================] - 5s 174ms/step - loss: 5.3052 - val_loss: 5.7118\n",
      "Epoch 16/100\n",
      "30/30 [==============================] - 5s 170ms/step - loss: 5.3016 - val_loss: 5.7196\n",
      "Epoch 17/100\n",
      "30/30 [==============================] - 5s 172ms/step - loss: 5.2898 - val_loss: 5.7153\n",
      "Epoch 18/100\n",
      "30/30 [==============================] - 5s 181ms/step - loss: 5.2679 - val_loss: 5.7154\n",
      "Epoch 19/100\n",
      "30/30 [==============================] - 5s 173ms/step - loss: 5.2523 - val_loss: 5.7167\n",
      "Epoch 20/100\n",
      "30/30 [==============================] - 5s 170ms/step - loss: 5.2339 - val_loss: 5.7126\n",
      "Epoch 21/100\n",
      "30/30 [==============================] - 5s 170ms/step - loss: 5.2281 - val_loss: 5.7202\n",
      "Epoch 22/100\n",
      "30/30 [==============================] - 5s 170ms/step - loss: 5.2240 - val_loss: 5.7273\n",
      "Epoch 23/100\n",
      "30/30 [==============================] - 5s 171ms/step - loss: 5.2300 - val_loss: 5.7270\n",
      "Epoch 24/100\n",
      "30/30 [==============================] - 5s 172ms/step - loss: 5.2252 - val_loss: 5.7160\n",
      "Epoch 25/100\n",
      "30/30 [==============================] - 5s 177ms/step - loss: 5.1915 - val_loss: 5.7101\n",
      "Epoch 26/100\n",
      "30/30 [==============================] - 5s 175ms/step - loss: 5.1689 - val_loss: 5.7127\n",
      "Epoch 27/100\n",
      "30/30 [==============================] - 5s 182ms/step - loss: 5.1560 - val_loss: 5.7124\n",
      "Epoch 28/100\n",
      "30/30 [==============================] - 5s 184ms/step - loss: 5.1416 - val_loss: 5.7109\n",
      "Epoch 29/100\n",
      "30/30 [==============================] - 6s 185ms/step - loss: 5.1315 - val_loss: 5.7076\n",
      "Epoch 30/100\n",
      "30/30 [==============================] - 5s 175ms/step - loss: 5.1133 - val_loss: 5.7077\n",
      "Epoch 31/100\n",
      "30/30 [==============================] - 5s 178ms/step - loss: 5.1013 - val_loss: 5.7146\n",
      "Epoch 32/100\n",
      "30/30 [==============================] - 5s 182ms/step - loss: 5.0925 - val_loss: 5.6968\n",
      "Epoch 33/100\n",
      "30/30 [==============================] - 6s 188ms/step - loss: 5.0865 - val_loss: 5.7007\n",
      "Epoch 34/100\n",
      "30/30 [==============================] - 6s 191ms/step - loss: 5.0808 - val_loss: 5.6806\n",
      "Epoch 35/100\n",
      "30/30 [==============================] - 6s 202ms/step - loss: 5.0567 - val_loss: 5.6654\n",
      "Epoch 36/100\n",
      "30/30 [==============================] - 6s 191ms/step - loss: 5.0292 - val_loss: 5.6443\n",
      "Epoch 37/100\n",
      "30/30 [==============================] - 5s 175ms/step - loss: 4.9960 - val_loss: 5.6488\n",
      "Epoch 38/100\n",
      "30/30 [==============================] - 5s 168ms/step - loss: 4.9773 - val_loss: 5.6445\n",
      "Epoch 39/100\n",
      "30/30 [==============================] - 5s 171ms/step - loss: 4.9600 - val_loss: 5.6395\n",
      "Epoch 40/100\n",
      "30/30 [==============================] - 5s 171ms/step - loss: 4.9407 - val_loss: 5.6457\n",
      "Epoch 41/100\n",
      "30/30 [==============================] - 5s 171ms/step - loss: 4.9259 - val_loss: 5.6324\n",
      "Epoch 42/100\n",
      "30/30 [==============================] - 5s 172ms/step - loss: 4.9162 - val_loss: 5.6380\n",
      "Epoch 43/100\n",
      "30/30 [==============================] - 5s 168ms/step - loss: 4.9031 - val_loss: 5.6509\n",
      "Epoch 44/100\n",
      "30/30 [==============================] - 5s 170ms/step - loss: 4.8798 - val_loss: 5.6396\n",
      "Epoch 45/100\n",
      "30/30 [==============================] - 5s 170ms/step - loss: 4.8637 - val_loss: 5.6171\n",
      "Epoch 46/100\n",
      "30/30 [==============================] - 5s 169ms/step - loss: 4.8369 - val_loss: 5.6114\n",
      "Epoch 47/100\n",
      "30/30 [==============================] - 5s 170ms/step - loss: 4.8214 - val_loss: 5.6402\n",
      "Epoch 48/100\n",
      "30/30 [==============================] - 5s 172ms/step - loss: 4.8091 - val_loss: 5.6201\n",
      "Epoch 49/100\n",
      "30/30 [==============================] - 5s 171ms/step - loss: 4.8078 - val_loss: 5.5916\n",
      "Epoch 50/100\n",
      "30/30 [==============================] - 5s 170ms/step - loss: 4.7996 - val_loss: 5.5967\n",
      "Epoch 51/100\n",
      "30/30 [==============================] - 5s 177ms/step - loss: 4.7660 - val_loss: 5.5893\n",
      "Epoch 52/100\n",
      "30/30 [==============================] - 5s 174ms/step - loss: 4.7386 - val_loss: 5.5770\n",
      "Epoch 53/100\n",
      "30/30 [==============================] - 5s 168ms/step - loss: 4.7112 - val_loss: 5.5795\n",
      "Epoch 54/100\n",
      "30/30 [==============================] - 5s 168ms/step - loss: 4.6862 - val_loss: 5.5781\n",
      "Epoch 55/100\n",
      "30/30 [==============================] - 5s 169ms/step - loss: 4.6652 - val_loss: 5.5556\n",
      "Epoch 56/100\n",
      "30/30 [==============================] - 5s 168ms/step - loss: 4.6435 - val_loss: 5.5543\n",
      "Epoch 57/100\n",
      "30/30 [==============================] - 5s 169ms/step - loss: 4.6247 - val_loss: 5.5514\n",
      "Epoch 58/100\n",
      "30/30 [==============================] - 5s 169ms/step - loss: 4.6106 - val_loss: 5.5319\n",
      "Epoch 59/100\n",
      "30/30 [==============================] - 5s 168ms/step - loss: 4.5966 - val_loss: 5.5324\n",
      "Epoch 60/100\n",
      "30/30 [==============================] - 5s 170ms/step - loss: 4.5819 - val_loss: 5.5311\n",
      "Epoch 61/100\n",
      "30/30 [==============================] - 5s 170ms/step - loss: 4.5558 - val_loss: 5.5360\n",
      "Epoch 62/100\n",
      "30/30 [==============================] - 5s 170ms/step - loss: 4.5359 - val_loss: 5.5398\n",
      "Epoch 63/100\n",
      "30/30 [==============================] - 5s 170ms/step - loss: 4.5172 - val_loss: 5.5533\n",
      "Epoch 64/100\n",
      "30/30 [==============================] - 5s 171ms/step - loss: 4.4893 - val_loss: 5.5736\n",
      "Epoch 65/100\n",
      "30/30 [==============================] - 5s 169ms/step - loss: 4.4634 - val_loss: 5.5778\n",
      "Epoch 66/100\n",
      "30/30 [==============================] - 5s 170ms/step - loss: 4.4510 - val_loss: 5.5713\n",
      "Epoch 67/100\n",
      "30/30 [==============================] - 5s 181ms/step - loss: 4.4345 - val_loss: 5.5501\n",
      "Epoch 68/100\n",
      "30/30 [==============================] - 6s 195ms/step - loss: 4.4031 - val_loss: 5.5406\n",
      "Epoch 69/100\n",
      "30/30 [==============================] - 6s 193ms/step - loss: 4.3902 - val_loss: 5.5233\n",
      "Epoch 70/100\n",
      "30/30 [==============================] - 6s 191ms/step - loss: 4.3827 - val_loss: 5.5125\n",
      "Epoch 71/100\n",
      "30/30 [==============================] - 5s 179ms/step - loss: 4.3600 - val_loss: 5.5085\n",
      "Epoch 72/100\n",
      "30/30 [==============================] - 5s 179ms/step - loss: 4.3368 - val_loss: 5.5008\n",
      "Epoch 73/100\n",
      "30/30 [==============================] - 6s 192ms/step - loss: 4.3129 - val_loss: 5.5008\n",
      "Epoch 74/100\n",
      "30/30 [==============================] - 6s 200ms/step - loss: 4.2956 - val_loss: 5.4903\n",
      "Epoch 75/100\n",
      "30/30 [==============================] - 5s 178ms/step - loss: 4.2776 - val_loss: 5.4799\n",
      "Epoch 76/100\n",
      "30/30 [==============================] - 5s 174ms/step - loss: 4.2571 - val_loss: 5.5280\n",
      "Epoch 77/100\n",
      "30/30 [==============================] - 5s 175ms/step - loss: 4.2338 - val_loss: 5.5303\n",
      "Epoch 78/100\n",
      "30/30 [==============================] - 5s 173ms/step - loss: 4.2098 - val_loss: 5.4920\n",
      "Epoch 79/100\n",
      "30/30 [==============================] - 5s 172ms/step - loss: 4.1710 - val_loss: 5.4723\n",
      "Epoch 80/100\n",
      "30/30 [==============================] - 5s 175ms/step - loss: 4.1250 - val_loss: 5.4611\n",
      "Epoch 81/100\n",
      "30/30 [==============================] - 5s 175ms/step - loss: 4.0896 - val_loss: 5.4449\n",
      "Epoch 82/100\n",
      "30/30 [==============================] - 5s 180ms/step - loss: 4.0551 - val_loss: 5.4432\n",
      "Epoch 83/100\n",
      "30/30 [==============================] - 6s 201ms/step - loss: 4.0327 - val_loss: 5.4490\n",
      "Epoch 84/100\n",
      "30/30 [==============================] - 5s 178ms/step - loss: 4.0070 - val_loss: 5.4363\n",
      "Epoch 85/100\n",
      "30/30 [==============================] - 5s 181ms/step - loss: 3.9842 - val_loss: 5.4370\n",
      "Epoch 86/100\n",
      "30/30 [==============================] - 5s 177ms/step - loss: 3.9651 - val_loss: 5.4603\n",
      "Epoch 87/100\n",
      "30/30 [==============================] - 5s 176ms/step - loss: 3.9369 - val_loss: 5.4488\n",
      "Epoch 88/100\n",
      "30/30 [==============================] - 5s 176ms/step - loss: 3.9167 - val_loss: 5.4377\n",
      "Epoch 89/100\n",
      "30/30 [==============================] - 5s 177ms/step - loss: 3.8923 - val_loss: 5.4384\n",
      "Epoch 90/100\n",
      "30/30 [==============================] - 5s 176ms/step - loss: 3.8763 - val_loss: 5.4290\n",
      "Epoch 91/100\n",
      "30/30 [==============================] - 5s 165ms/step - loss: 3.8609 - val_loss: 5.4388\n",
      "Epoch 92/100\n",
      "30/30 [==============================] - 4s 149ms/step - loss: 3.8331 - val_loss: 5.4288\n",
      "Epoch 93/100\n",
      "30/30 [==============================] - 8s 283ms/step - loss: 3.8202 - val_loss: 5.4358\n",
      "Epoch 94/100\n",
      "30/30 [==============================] - 5s 165ms/step - loss: 3.8098 - val_loss: 5.4512\n",
      "Epoch 95/100\n",
      "30/30 [==============================] - 5s 164ms/step - loss: 3.7816 - val_loss: 5.4405\n",
      "Epoch 96/100\n",
      "30/30 [==============================] - 5s 172ms/step - loss: 3.7529 - val_loss: 5.4412\n",
      "Epoch 97/100\n",
      "30/30 [==============================] - 5s 175ms/step - loss: 3.7363 - val_loss: 5.4584\n",
      "Epoch 98/100\n",
      "30/30 [==============================] - 5s 170ms/step - loss: 3.7129 - val_loss: 5.4630\n",
      "Epoch 99/100\n",
      "30/30 [==============================] - 5s 169ms/step - loss: 3.6813 - val_loss: 5.4671\n",
      "Epoch 100/100\n",
      "30/30 [==============================] - 5s 165ms/step - loss: 3.6617 - val_loss: 5.4713\n"
     ]
    },
    {
     "data": {
      "text/plain": [
       "<keras.src.callbacks.History at 0x201705a5360>"
      ]
     },
     "execution_count": 41,
     "metadata": {},
     "output_type": "execute_result"
    }
   ],
   "source": [
    "model.fit_generator(generator = generate_batch(X_train, y_train, batch_size = batch_size),\n",
    "                    steps_per_epoch = train_samples//batch_size,\n",
    "                    epochs=epochs,\n",
    "                    validation_data = generate_batch(X_test, y_test, batch_size = batch_size),\n",
    "                    validation_steps = val_samples//batch_size)"
   ]
  },
  {
   "cell_type": "code",
   "execution_count": 42,
   "id": "91a0e96c",
   "metadata": {},
   "outputs": [
    {
     "name": "stderr",
     "output_type": "stream",
     "text": [
      "c:\\Users\\shubh\\AppData\\Local\\Programs\\Python\\Python310\\lib\\site-packages\\keras\\src\\engine\\training.py:3103: UserWarning: You are saving your model as an HDF5 file via `model.save()`. This file format is considered legacy. We recommend using instead the native Keras format, e.g. `model.save('my_model.keras')`.\n",
      "  saving_api.save_model(\n"
     ]
    }
   ],
   "source": [
    "model.save('group_3.h5')"
   ]
  },
  {
   "cell_type": "code",
   "execution_count": 43,
   "id": "5f4d9f47",
   "metadata": {},
   "outputs": [],
   "source": [
    "# Encode the input sequence to get the \"thought vectors\"\n",
    "encoder_model = Model(encoder_inputs, encoder_states)\n",
    "\n",
    "# Decoder setup\n",
    "# Below tensors will hold the states of the previous time step\n",
    "decoder_state_input_h = Input(shape=(latent_dim,))\n",
    "decoder_state_input_c = Input(shape=(latent_dim,))\n",
    "decoder_states_inputs = [decoder_state_input_h, decoder_state_input_c]\n",
    "\n",
    "dec_emb2= dec_emb_layer(decoder_inputs) # Get the embeddings of the decoder sequence\n",
    "\n",
    "# To predict the next word in the sequence, set the initial states to the states from the previous time step\n",
    "decoder_outputs2, state_h2, state_c2 = decoder_lstm(dec_emb2, initial_state=decoder_states_inputs)\n",
    "decoder_states2 = [state_h2, state_c2]\n",
    "decoder_outputs2 = decoder_dense(decoder_outputs2) # A dense softmax layer to generate prob dist. over the target vocabulary\n",
    "\n",
    "# Final decoder model\n",
    "decoder_model = Model(\n",
    "    [decoder_inputs] + decoder_states_inputs,\n",
    "    [decoder_outputs2] + decoder_states2)\n"
   ]
  },
  {
   "cell_type": "code",
   "execution_count": 44,
   "id": "d5cdfde4",
   "metadata": {},
   "outputs": [],
   "source": [
    "def decode_sequence(input_seq):\n",
    "    # Encode the input as state vectors.\n",
    "    states_value = encoder_model.predict(input_seq)\n",
    "    # Generate empty target sequence of length 1.\n",
    "    target_seq = np.zeros((1,1))\n",
    "    # Populate the first character of target sequence with the start character.\n",
    "    target_seq[0, 0] = target_token_index['START_']\n",
    "\n",
    "    # Sampling loop for a batch of sequences\n",
    "    # (to simplify, here we assume a batch of size 1).\n",
    "    stop_condition = False\n",
    "    decoded_sentence = ''\n",
    "    while not stop_condition:\n",
    "        output_tokens, h, c = decoder_model.predict([target_seq] + states_value)\n",
    "\n",
    "        # Sample a token\n",
    "        sampled_token_index = np.argmax(output_tokens[0, -1, :])\n",
    "        sampled_char = reverse_target_char_index[sampled_token_index]\n",
    "        decoded_sentence += ' '+sampled_char\n",
    "\n",
    "        # Exit condition: either hit max length\n",
    "        # or find stop character.\n",
    "        if (sampled_char == '_END' or\n",
    "           len(decoded_sentence) > 50):\n",
    "            stop_condition = True\n",
    "\n",
    "        # Update the target sequence (of length 1).\n",
    "        target_seq = np.zeros((1,1))\n",
    "        target_seq[0, 0] = sampled_token_index\n",
    "\n",
    "        # Update states\n",
    "        states_value = [h, c]\n",
    "\n",
    "    return decoded_sentence"
   ]
  },
  {
   "cell_type": "code",
   "execution_count": 45,
   "id": "b65289e8",
   "metadata": {},
   "outputs": [],
   "source": [
    "train_gen = generate_batch(X_train, y_train, batch_size = 1)\n",
    "k=-1\n"
   ]
  },
  {
   "cell_type": "code",
   "execution_count": 46,
   "id": "2d61cc05",
   "metadata": {},
   "outputs": [
    {
     "name": "stdout",
     "output_type": "stream",
     "text": [
      "1/1 [==============================] - 1s 877ms/step\n",
      "1/1 [==============================] - 1s 1s/step\n",
      "1/1 [==============================] - 0s 15ms/step\n",
      "1/1 [==============================] - 0s 18ms/step\n",
      "1/1 [==============================] - 0s 31ms/step\n",
      "1/1 [==============================] - 0s 32ms/step\n",
      "1/1 [==============================] - 0s 32ms/step\n",
      "1/1 [==============================] - 0s 22ms/step\n",
      "1/1 [==============================] - 0s 16ms/step\n",
      "1/1 [==============================] - 0s 16ms/step\n",
      "1/1 [==============================] - 0s 32ms/step\n",
      "1/1 [==============================] - 0s 31ms/step\n",
      "1/1 [==============================] - 0s 33ms/step\n",
      "1/1 [==============================] - 0s 31ms/step\n",
      "1/1 [==============================] - 0s 25ms/step\n",
      "1/1 [==============================] - 0s 16ms/step\n",
      "1/1 [==============================] - 0s 15ms/step\n",
      "1/1 [==============================] - 0s 20ms/step\n",
      "Input English sentence: that magic will happen\n",
      "Actual Hindi Translation:  तब वह जादू हो सकता है \n",
      "Predicted Hindi Translation:  यह यह यह यह यह यह यह यह यह यह यह यह यह यह यह य\n"
     ]
    }
   ],
   "source": [
    "k+=1\n",
    "(input_seq, actual_output), _ = next(train_gen)\n",
    "decoded_sentence = decode_sequence(input_seq)\n",
    "print('Input English sentence:', X_train[k:k+1].values[0])\n",
    "print('Actual Hindi Translation:', y_train[k:k+1].values[0][6:-4])\n",
    "print('Predicted Hindi Translation:', decoded_sentence[:-4])"
   ]
  },
  {
   "cell_type": "code",
   "execution_count": 47,
   "id": "1d55227e",
   "metadata": {},
   "outputs": [
    {
     "name": "stdout",
     "output_type": "stream",
     "text": [
      "1/1 [==============================] - 0s 21ms/step\n",
      "1/1 [==============================] - 0s 30ms/step\n",
      "1/1 [==============================] - 0s 16ms/step\n",
      "1/1 [==============================] - 0s 16ms/step\n",
      "1/1 [==============================] - 0s 16ms/step\n",
      "1/1 [==============================] - 0s 32ms/step\n",
      "1/1 [==============================] - 0s 35ms/step\n",
      "1/1 [==============================] - 0s 31ms/step\n",
      "1/1 [==============================] - 0s 16ms/step\n",
      "1/1 [==============================] - 0s 30ms/step\n",
      "1/1 [==============================] - 0s 34ms/step\n",
      "1/1 [==============================] - 0s 30ms/step\n",
      "Input English sentence: to the point where people simply get out of the business\n",
      "Actual Hindi Translation:  कि लोग उन कामधंधों को छोड ही दें \n",
      "Predicted Hindi Translation:  तालियाँ तालियाँ तालियाँ तालियाँ व कि कि कि कि ह\n"
     ]
    }
   ],
   "source": [
    "k+=1\n",
    "(input_seq, actual_output), _ = next(train_gen)\n",
    "decoded_sentence = decode_sequence(input_seq)\n",
    "print('Input English sentence:', X_train[k:k+1].values[0])\n",
    "print('Actual Hindi Translation:', y_train[k:k+1].values[0][6:-4])\n",
    "print('Predicted Hindi Translation:', decoded_sentence[:-4])"
   ]
  },
  {
   "cell_type": "code",
   "execution_count": 48,
   "id": "7de6830f",
   "metadata": {},
   "outputs": [
    {
     "name": "stdout",
     "output_type": "stream",
     "text": [
      "1/1 [==============================] - 0s 12ms/step\n",
      "1/1 [==============================] - 0s 15ms/step\n",
      "1/1 [==============================] - 0s 16ms/step\n",
      "1/1 [==============================] - 0s 19ms/step\n",
      "1/1 [==============================] - 0s 16ms/step\n",
      "1/1 [==============================] - 0s 32ms/step\n",
      "1/1 [==============================] - 0s 17ms/step\n",
      "1/1 [==============================] - 0s 25ms/step\n",
      "1/1 [==============================] - 0s 28ms/step\n",
      "1/1 [==============================] - 0s 21ms/step\n",
      "1/1 [==============================] - 0s 16ms/step\n",
      "1/1 [==============================] - 0s 26ms/step\n",
      "Input English sentence: when i do a trick at a party\n",
      "Actual Hindi Translation:  जब मैं किसी पार्टी में जादू करता हूँ \n",
      "Predicted Hindi Translation:  तालियाँ तालियाँ तालियाँ तालियाँ हम हम हम हम हम ह\n"
     ]
    }
   ],
   "source": [
    "k+=1\n",
    "(input_seq, actual_output), _ = next(train_gen)\n",
    "decoded_sentence = decode_sequence(input_seq)\n",
    "print('Input English sentence:', X_train[k:k+1].values[0])\n",
    "print('Actual Hindi Translation:', y_train[k:k+1].values[0][6:-4])\n",
    "print('Predicted Hindi Translation:', decoded_sentence[:-4])"
   ]
  },
  {
   "cell_type": "code",
   "execution_count": 49,
   "id": "a4fd9472",
   "metadata": {},
   "outputs": [
    {
     "name": "stdout",
     "output_type": "stream",
     "text": [
      "1/1 [==============================] - 0s 23ms/step\n",
      "1/1 [==============================] - 0s 18ms/step\n",
      "1/1 [==============================] - 0s 32ms/step\n",
      "1/1 [==============================] - 0s 25ms/step\n",
      "1/1 [==============================] - 0s 15ms/step\n",
      "1/1 [==============================] - 0s 29ms/step\n",
      "1/1 [==============================] - 0s 16ms/step\n",
      "1/1 [==============================] - 0s 27ms/step\n",
      "1/1 [==============================] - 0s 36ms/step\n",
      "Input English sentence: and then you know what we do we negotiate\n",
      "Actual Hindi Translation:  और फ़िर हम क्या करते है हम सौदा तय करते हैं । \n",
      "Predicted Hindi Translation:  हार्वे हार्वे हार्वे साड़े साड़े साड़े साड़े स\n"
     ]
    }
   ],
   "source": [
    "k+=1\n",
    "(input_seq, actual_output), _ = next(train_gen)\n",
    "decoded_sentence = decode_sequence(input_seq)\n",
    "print('Input English sentence:', X_train[k:k+1].values[0])\n",
    "print('Actual Hindi Translation:', y_train[k:k+1].values[0][6:-4])\n",
    "print('Predicted Hindi Translation:', decoded_sentence[:-4])"
   ]
  },
  {
   "cell_type": "code",
   "execution_count": 50,
   "id": "cd0f3715",
   "metadata": {},
   "outputs": [
    {
     "name": "stdout",
     "output_type": "stream",
     "text": [
      "1/1 [==============================] - 0s 18ms/step\n",
      "1/1 [==============================] - 0s 17ms/step\n",
      "1/1 [==============================] - 0s 16ms/step\n",
      "1/1 [==============================] - 0s 16ms/step\n",
      "1/1 [==============================] - 0s 32ms/step\n",
      "1/1 [==============================] - 0s 32ms/step\n",
      "1/1 [==============================] - 0s 18ms/step\n",
      "1/1 [==============================] - 0s 16ms/step\n",
      "1/1 [==============================] - 0s 32ms/step\n",
      "1/1 [==============================] - 0s 16ms/step\n",
      "1/1 [==============================] - 0s 28ms/step\n",
      "1/1 [==============================] - 0s 31ms/step\n",
      "1/1 [==============================] - 0s 16ms/step\n",
      "1/1 [==============================] - 0s 13ms/step\n",
      "1/1 [==============================] - 0s 21ms/step\n",
      "Input English sentence: in the generation of those alive today a sense of generational mission\n",
      "Actual Hindi Translation:  एक नई पीढी़ मिशन की भावना जाग्रत कर सकें। \n",
      "Predicted Hindi Translation:  क्या कि कि कि और अगर अगर मैं मैं मैं मैं मैं मैं\n"
     ]
    }
   ],
   "source": [
    "k+=1\n",
    "(input_seq, actual_output), _ = next(train_gen)\n",
    "decoded_sentence = decode_sequence(input_seq)\n",
    "print('Input English sentence:', X_train[k:k+1].values[0])\n",
    "print('Actual Hindi Translation:', y_train[k:k+1].values[0][6:-4])\n",
    "print('Predicted Hindi Translation:', decoded_sentence[:-4])"
   ]
  },
  {
   "cell_type": "code",
   "execution_count": 51,
   "id": "7da0d90c",
   "metadata": {},
   "outputs": [],
   "source": [
    "from keras.models import load_model\n",
    "\n",
    "# Save the entire model\n",
    "model.save('nmt_model.h5')\n",
    "\n",
    "\n",
    "# Load the entire model\n",
    "loaded_model = load_model('nmt_model.h5')\n"
   ]
  },
  {
   "cell_type": "code",
   "execution_count": null,
   "id": "c089d0da",
   "metadata": {},
   "outputs": [],
   "source": [
    "# Save the entire model (including architecture, optimizer state, and weights)\n",
    "model.save('nmt_model1.h5')\n"
   ]
  },
  {
   "cell_type": "code",
   "execution_count": null,
   "id": "86d1e6be",
   "metadata": {},
   "outputs": [],
   "source": []
  }
 ],
 "metadata": {
  "kernelspec": {
   "display_name": "Python 3 (ipykernel)",
   "language": "python",
   "name": "python3"
  },
  "language_info": {
   "codemirror_mode": {
    "name": "ipython",
    "version": 3
   },
   "file_extension": ".py",
   "mimetype": "text/x-python",
   "name": "python",
   "nbconvert_exporter": "python",
   "pygments_lexer": "ipython3",
   "version": "3.10.0"
  }
 },
 "nbformat": 4,
 "nbformat_minor": 5
}
